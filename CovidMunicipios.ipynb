{
 "cells": [
  {
   "cell_type": "code",
   "execution_count": 3,
   "id": "documentary-wesley",
   "metadata": {},
   "outputs": [],
   "source": [
    "import pandas as pd\n",
    "covid_deaths = 3650 "
   ]
  },
  {
   "cell_type": "code",
   "execution_count": 87,
   "id": "hollywood-preparation",
   "metadata": {},
   "outputs": [],
   "source": [
    "url_populacao = 'http://api.sidra.ibge.gov.br/values/t/6579/P/2020/n6/all?formato=json'\n",
    "municipios = pd.read_json(url_populacao)[1:]"
   ]
  },
  {
   "cell_type": "code",
   "execution_count": 88,
   "metadata": {},
   "outputs": [
    {
     "output_type": "execute_result",
     "data": {
      "text/plain": [
       "  NC         NN  MC       MN       V   D1C   D1N      D2C  \\\n",
       "1  6  Município  45  Pessoas   22728  2020  2020  1100015   \n",
       "2  6  Município  45  Pessoas  109523  2020  2020  1100023   \n",
       "3  6  Município  45  Pessoas    5188  2020  2020  1100031   \n",
       "4  6  Município  45  Pessoas   85893  2020  2020  1100049   \n",
       "5  6  Município  45  Pessoas   16204  2020  2020  1100056   \n",
       "\n",
       "                          D2N   D3C                           D3N  \n",
       "1  Alta Floresta D'Oeste - RO  9324  População residente estimada  \n",
       "2              Ariquemes - RO  9324  População residente estimada  \n",
       "3                 Cabixi - RO  9324  População residente estimada  \n",
       "4                 Cacoal - RO  9324  População residente estimada  \n",
       "5             Cerejeiras - RO  9324  População residente estimada  "
      ],
      "text/html": "<div>\n<style scoped>\n    .dataframe tbody tr th:only-of-type {\n        vertical-align: middle;\n    }\n\n    .dataframe tbody tr th {\n        vertical-align: top;\n    }\n\n    .dataframe thead th {\n        text-align: right;\n    }\n</style>\n<table border=\"1\" class=\"dataframe\">\n  <thead>\n    <tr style=\"text-align: right;\">\n      <th></th>\n      <th>NC</th>\n      <th>NN</th>\n      <th>MC</th>\n      <th>MN</th>\n      <th>V</th>\n      <th>D1C</th>\n      <th>D1N</th>\n      <th>D2C</th>\n      <th>D2N</th>\n      <th>D3C</th>\n      <th>D3N</th>\n    </tr>\n  </thead>\n  <tbody>\n    <tr>\n      <th>1</th>\n      <td>6</td>\n      <td>Município</td>\n      <td>45</td>\n      <td>Pessoas</td>\n      <td>22728</td>\n      <td>2020</td>\n      <td>2020</td>\n      <td>1100015</td>\n      <td>Alta Floresta D'Oeste - RO</td>\n      <td>9324</td>\n      <td>População residente estimada</td>\n    </tr>\n    <tr>\n      <th>2</th>\n      <td>6</td>\n      <td>Município</td>\n      <td>45</td>\n      <td>Pessoas</td>\n      <td>109523</td>\n      <td>2020</td>\n      <td>2020</td>\n      <td>1100023</td>\n      <td>Ariquemes - RO</td>\n      <td>9324</td>\n      <td>População residente estimada</td>\n    </tr>\n    <tr>\n      <th>3</th>\n      <td>6</td>\n      <td>Município</td>\n      <td>45</td>\n      <td>Pessoas</td>\n      <td>5188</td>\n      <td>2020</td>\n      <td>2020</td>\n      <td>1100031</td>\n      <td>Cabixi - RO</td>\n      <td>9324</td>\n      <td>População residente estimada</td>\n    </tr>\n    <tr>\n      <th>4</th>\n      <td>6</td>\n      <td>Município</td>\n      <td>45</td>\n      <td>Pessoas</td>\n      <td>85893</td>\n      <td>2020</td>\n      <td>2020</td>\n      <td>1100049</td>\n      <td>Cacoal - RO</td>\n      <td>9324</td>\n      <td>População residente estimada</td>\n    </tr>\n    <tr>\n      <th>5</th>\n      <td>6</td>\n      <td>Município</td>\n      <td>45</td>\n      <td>Pessoas</td>\n      <td>16204</td>\n      <td>2020</td>\n      <td>2020</td>\n      <td>1100056</td>\n      <td>Cerejeiras - RO</td>\n      <td>9324</td>\n      <td>População residente estimada</td>\n    </tr>\n  </tbody>\n</table>\n</div>"
     },
     "metadata": {},
     "execution_count": 88
    }
   ],
   "source": [
    "municipios.head()"
   ]
  },
  {
   "cell_type": "code",
   "execution_count": 89,
   "metadata": {},
   "outputs": [
    {
     "output_type": "execute_result",
     "data": {
      "text/plain": [
       "(5570, 11)"
      ]
     },
     "metadata": {},
     "execution_count": 89
    }
   ],
   "source": [
    "municipios.shape"
   ]
  },
  {
   "cell_type": "code",
   "execution_count": 90,
   "metadata": {},
   "outputs": [
    {
     "output_type": "stream",
     "name": "stdout",
     "text": [
      "<class 'pandas.core.frame.DataFrame'>\nRangeIndex: 5570 entries, 1 to 5570\nData columns (total 11 columns):\n #   Column  Non-Null Count  Dtype \n---  ------  --------------  ----- \n 0   NC      5570 non-null   object\n 1   NN      5570 non-null   object\n 2   MC      5570 non-null   object\n 3   MN      5570 non-null   object\n 4   V       5570 non-null   object\n 5   D1C     5570 non-null   object\n 6   D1N     5570 non-null   object\n 7   D2C     5570 non-null   object\n 8   D2N     5570 non-null   object\n 9   D3C     5570 non-null   object\n 10  D3N     5570 non-null   object\ndtypes: object(11)\nmemory usage: 478.8+ KB\n"
     ]
    }
   ],
   "source": [
    "municipios.info()"
   ]
  },
  {
   "cell_type": "code",
   "execution_count": 91,
   "id": "exotic-application",
   "metadata": {},
   "outputs": [],
   "source": [
    "municipios.rename(columns={\"D2C\": \"Codigo\", \"D2N\": \"Municipio\", \"V\":\"Populacao\"}, inplace=True)\n",
    "municipios = municipios[['Codigo', 'Municipio', 'Populacao']]\n",
    "municipios['Populacao'] = pd.to_numeric(municipios['Populacao'])\n",
    "\n",
    "# Usar o codigo do municipio para retornar (lat lon)"
   ]
  },
  {
   "cell_type": "code",
   "execution_count": 92,
   "id": "hungry-pleasure",
   "metadata": {},
   "outputs": [
    {
     "output_type": "execute_result",
     "data": {
      "text/plain": [
       "       Codigo                   Municipio  Populacao\n",
       "33    1100908           Castanheiras - RO       2987\n",
       "43    1101468   Pimenteiras do Oeste - RO       2148\n",
       "44    1101476  Primavera de Rondônia - RO       2776\n",
       "106   1302108                 Japurá - AM       2251\n",
       "168   1501253                Bannach - PA       3262\n",
       "...       ...                         ...        ...\n",
       "5553  5221080      Teresina de Goiás - GO       3498\n",
       "5555  5221304           Três Ranchos - GO       2830\n",
       "5557  5221452                Trombas - GO       3498\n",
       "5560  5221577               Uirapuru - GO       2840\n",
       "5563  5221809                 Urutaí - GO       3066\n",
       "\n",
       "[730 rows x 3 columns]"
      ],
      "text/html": "<div>\n<style scoped>\n    .dataframe tbody tr th:only-of-type {\n        vertical-align: middle;\n    }\n\n    .dataframe tbody tr th {\n        vertical-align: top;\n    }\n\n    .dataframe thead th {\n        text-align: right;\n    }\n</style>\n<table border=\"1\" class=\"dataframe\">\n  <thead>\n    <tr style=\"text-align: right;\">\n      <th></th>\n      <th>Codigo</th>\n      <th>Municipio</th>\n      <th>Populacao</th>\n    </tr>\n  </thead>\n  <tbody>\n    <tr>\n      <th>33</th>\n      <td>1100908</td>\n      <td>Castanheiras - RO</td>\n      <td>2987</td>\n    </tr>\n    <tr>\n      <th>43</th>\n      <td>1101468</td>\n      <td>Pimenteiras do Oeste - RO</td>\n      <td>2148</td>\n    </tr>\n    <tr>\n      <th>44</th>\n      <td>1101476</td>\n      <td>Primavera de Rondônia - RO</td>\n      <td>2776</td>\n    </tr>\n    <tr>\n      <th>106</th>\n      <td>1302108</td>\n      <td>Japurá - AM</td>\n      <td>2251</td>\n    </tr>\n    <tr>\n      <th>168</th>\n      <td>1501253</td>\n      <td>Bannach - PA</td>\n      <td>3262</td>\n    </tr>\n    <tr>\n      <th>...</th>\n      <td>...</td>\n      <td>...</td>\n      <td>...</td>\n    </tr>\n    <tr>\n      <th>5553</th>\n      <td>5221080</td>\n      <td>Teresina de Goiás - GO</td>\n      <td>3498</td>\n    </tr>\n    <tr>\n      <th>5555</th>\n      <td>5221304</td>\n      <td>Três Ranchos - GO</td>\n      <td>2830</td>\n    </tr>\n    <tr>\n      <th>5557</th>\n      <td>5221452</td>\n      <td>Trombas - GO</td>\n      <td>3498</td>\n    </tr>\n    <tr>\n      <th>5560</th>\n      <td>5221577</td>\n      <td>Uirapuru - GO</td>\n      <td>2840</td>\n    </tr>\n    <tr>\n      <th>5563</th>\n      <td>5221809</td>\n      <td>Urutaí - GO</td>\n      <td>3066</td>\n    </tr>\n  </tbody>\n</table>\n<p>730 rows × 3 columns</p>\n</div>"
     },
     "metadata": {},
     "execution_count": 92
    }
   ],
   "source": [
    "municipios[municipios['Populacao'] <= covid_deaths]"
   ]
  },
  {
   "cell_type": "markdown",
   "id": "through-harrison",
   "metadata": {},
   "source": [
    "# Todo\n",
    "\n",
    "- Retornar as mortes confirmadas (diárias) através de API\n",
    "- Usar o codigo do municipio para retornar (lat lon)\n"
   ]
  },
  {
   "source": [
    "## 1) Inserindo Latitude e Longitude no dataset original"
   ],
   "cell_type": "markdown",
   "metadata": {}
  },
  {
   "cell_type": "code",
   "execution_count": 93,
   "id": "tropical-print",
   "metadata": {},
   "outputs": [],
   "source": [
    "#Dataset com latitude e longitude dos municípios\n",
    "\n",
    "lat_long = pd.read_csv('municipios.csv')"
   ]
  },
  {
   "cell_type": "code",
   "execution_count": 94,
   "metadata": {},
   "outputs": [
    {
     "output_type": "execute_result",
     "data": {
      "text/plain": [
       "   codigo_ibge                 nome  latitude  longitude  capital  codigo_uf\n",
       "0      5200050      Abadia de Goiás -16.75730   -49.4412        0         52\n",
       "1      3100104  Abadia dos Dourados -18.48310   -47.3916        0         31\n",
       "2      5200100            Abadiânia -16.19700   -48.7057        0         52\n",
       "3      3100203               Abaeté -19.15510   -45.4444        0         31\n",
       "4      1500107           Abaetetuba  -1.72183   -48.8788        0         15"
      ],
      "text/html": "<div>\n<style scoped>\n    .dataframe tbody tr th:only-of-type {\n        vertical-align: middle;\n    }\n\n    .dataframe tbody tr th {\n        vertical-align: top;\n    }\n\n    .dataframe thead th {\n        text-align: right;\n    }\n</style>\n<table border=\"1\" class=\"dataframe\">\n  <thead>\n    <tr style=\"text-align: right;\">\n      <th></th>\n      <th>codigo_ibge</th>\n      <th>nome</th>\n      <th>latitude</th>\n      <th>longitude</th>\n      <th>capital</th>\n      <th>codigo_uf</th>\n    </tr>\n  </thead>\n  <tbody>\n    <tr>\n      <th>0</th>\n      <td>5200050</td>\n      <td>Abadia de Goiás</td>\n      <td>-16.75730</td>\n      <td>-49.4412</td>\n      <td>0</td>\n      <td>52</td>\n    </tr>\n    <tr>\n      <th>1</th>\n      <td>3100104</td>\n      <td>Abadia dos Dourados</td>\n      <td>-18.48310</td>\n      <td>-47.3916</td>\n      <td>0</td>\n      <td>31</td>\n    </tr>\n    <tr>\n      <th>2</th>\n      <td>5200100</td>\n      <td>Abadiânia</td>\n      <td>-16.19700</td>\n      <td>-48.7057</td>\n      <td>0</td>\n      <td>52</td>\n    </tr>\n    <tr>\n      <th>3</th>\n      <td>3100203</td>\n      <td>Abaeté</td>\n      <td>-19.15510</td>\n      <td>-45.4444</td>\n      <td>0</td>\n      <td>31</td>\n    </tr>\n    <tr>\n      <th>4</th>\n      <td>1500107</td>\n      <td>Abaetetuba</td>\n      <td>-1.72183</td>\n      <td>-48.8788</td>\n      <td>0</td>\n      <td>15</td>\n    </tr>\n  </tbody>\n</table>\n</div>"
     },
     "metadata": {},
     "execution_count": 94
    }
   ],
   "source": [
    "lat_long.head()"
   ]
  },
  {
   "cell_type": "code",
   "execution_count": 95,
   "metadata": {},
   "outputs": [],
   "source": [
    "#transformando 'codigo' para inteiro\n",
    "\n",
    "municipios['Codigo'] = municipios['Codigo'].astype('int')"
   ]
  },
  {
   "cell_type": "code",
   "execution_count": 96,
   "metadata": {},
   "outputs": [],
   "source": [
    "#Fazendo o merge da tabela original com a latitude e longitude dos municípios\n",
    "\n",
    "municipios = pd.merge(municipios, lat_long, how='left', left_on='Codigo', right_on='codigo_ibge')"
   ]
  },
  {
   "cell_type": "code",
   "execution_count": 97,
   "metadata": {},
   "outputs": [
    {
     "output_type": "execute_result",
     "data": {
      "text/plain": [
       "    Codigo                   Municipio  Populacao  codigo_ibge  \\\n",
       "0  1100015  Alta Floresta D'Oeste - RO      22728      1100015   \n",
       "1  1100023              Ariquemes - RO     109523      1100023   \n",
       "2  1100031                 Cabixi - RO       5188      1100031   \n",
       "3  1100049                 Cacoal - RO      85893      1100049   \n",
       "4  1100056             Cerejeiras - RO      16204      1100056   \n",
       "\n",
       "                    nome  latitude  longitude  capital  codigo_uf  \n",
       "0  Alta Floresta D'Oeste -11.92830   -61.9953        0         11  \n",
       "1              Ariquemes  -9.90571   -63.0325        0         11  \n",
       "2                 Cabixi -13.49450   -60.5520        0         11  \n",
       "3                 Cacoal -11.43430   -61.4562        0         11  \n",
       "4             Cerejeiras -13.18700   -60.8168        0         11  "
      ],
      "text/html": "<div>\n<style scoped>\n    .dataframe tbody tr th:only-of-type {\n        vertical-align: middle;\n    }\n\n    .dataframe tbody tr th {\n        vertical-align: top;\n    }\n\n    .dataframe thead th {\n        text-align: right;\n    }\n</style>\n<table border=\"1\" class=\"dataframe\">\n  <thead>\n    <tr style=\"text-align: right;\">\n      <th></th>\n      <th>Codigo</th>\n      <th>Municipio</th>\n      <th>Populacao</th>\n      <th>codigo_ibge</th>\n      <th>nome</th>\n      <th>latitude</th>\n      <th>longitude</th>\n      <th>capital</th>\n      <th>codigo_uf</th>\n    </tr>\n  </thead>\n  <tbody>\n    <tr>\n      <th>0</th>\n      <td>1100015</td>\n      <td>Alta Floresta D'Oeste - RO</td>\n      <td>22728</td>\n      <td>1100015</td>\n      <td>Alta Floresta D'Oeste</td>\n      <td>-11.92830</td>\n      <td>-61.9953</td>\n      <td>0</td>\n      <td>11</td>\n    </tr>\n    <tr>\n      <th>1</th>\n      <td>1100023</td>\n      <td>Ariquemes - RO</td>\n      <td>109523</td>\n      <td>1100023</td>\n      <td>Ariquemes</td>\n      <td>-9.90571</td>\n      <td>-63.0325</td>\n      <td>0</td>\n      <td>11</td>\n    </tr>\n    <tr>\n      <th>2</th>\n      <td>1100031</td>\n      <td>Cabixi - RO</td>\n      <td>5188</td>\n      <td>1100031</td>\n      <td>Cabixi</td>\n      <td>-13.49450</td>\n      <td>-60.5520</td>\n      <td>0</td>\n      <td>11</td>\n    </tr>\n    <tr>\n      <th>3</th>\n      <td>1100049</td>\n      <td>Cacoal - RO</td>\n      <td>85893</td>\n      <td>1100049</td>\n      <td>Cacoal</td>\n      <td>-11.43430</td>\n      <td>-61.4562</td>\n      <td>0</td>\n      <td>11</td>\n    </tr>\n    <tr>\n      <th>4</th>\n      <td>1100056</td>\n      <td>Cerejeiras - RO</td>\n      <td>16204</td>\n      <td>1100056</td>\n      <td>Cerejeiras</td>\n      <td>-13.18700</td>\n      <td>-60.8168</td>\n      <td>0</td>\n      <td>11</td>\n    </tr>\n  </tbody>\n</table>\n</div>"
     },
     "metadata": {},
     "execution_count": 97
    }
   ],
   "source": [
    "municipios.head()"
   ]
  },
  {
   "cell_type": "code",
   "execution_count": 98,
   "metadata": {},
   "outputs": [],
   "source": [
    "#Excluindo colunas desnecessárias\n",
    "\n",
    "municipios = municipios.drop(columns=['codigo_ibge','nome', 'capital','codigo_uf'])"
   ]
  },
  {
   "cell_type": "code",
   "execution_count": 99,
   "metadata": {},
   "outputs": [],
   "source": [
    "municipios = pd.DataFrame(municipios)"
   ]
  },
  {
   "cell_type": "code",
   "execution_count": 104,
   "metadata": {},
   "outputs": [
    {
     "output_type": "execute_result",
     "data": {
      "text/plain": [
       "    Codigo                   Municipio  Populacao  latitude  longitude\n",
       "0  1100015  Alta Floresta D'Oeste - RO      22728 -11.92830   -61.9953\n",
       "1  1100023              Ariquemes - RO     109523  -9.90571   -63.0325\n",
       "2  1100031                 Cabixi - RO       5188 -13.49450   -60.5520\n",
       "3  1100049                 Cacoal - RO      85893 -11.43430   -61.4562\n",
       "4  1100056             Cerejeiras - RO      16204 -13.18700   -60.8168"
      ],
      "text/html": "<div>\n<style scoped>\n    .dataframe tbody tr th:only-of-type {\n        vertical-align: middle;\n    }\n\n    .dataframe tbody tr th {\n        vertical-align: top;\n    }\n\n    .dataframe thead th {\n        text-align: right;\n    }\n</style>\n<table border=\"1\" class=\"dataframe\">\n  <thead>\n    <tr style=\"text-align: right;\">\n      <th></th>\n      <th>Codigo</th>\n      <th>Municipio</th>\n      <th>Populacao</th>\n      <th>latitude</th>\n      <th>longitude</th>\n    </tr>\n  </thead>\n  <tbody>\n    <tr>\n      <th>0</th>\n      <td>1100015</td>\n      <td>Alta Floresta D'Oeste - RO</td>\n      <td>22728</td>\n      <td>-11.92830</td>\n      <td>-61.9953</td>\n    </tr>\n    <tr>\n      <th>1</th>\n      <td>1100023</td>\n      <td>Ariquemes - RO</td>\n      <td>109523</td>\n      <td>-9.90571</td>\n      <td>-63.0325</td>\n    </tr>\n    <tr>\n      <th>2</th>\n      <td>1100031</td>\n      <td>Cabixi - RO</td>\n      <td>5188</td>\n      <td>-13.49450</td>\n      <td>-60.5520</td>\n    </tr>\n    <tr>\n      <th>3</th>\n      <td>1100049</td>\n      <td>Cacoal - RO</td>\n      <td>85893</td>\n      <td>-11.43430</td>\n      <td>-61.4562</td>\n    </tr>\n    <tr>\n      <th>4</th>\n      <td>1100056</td>\n      <td>Cerejeiras - RO</td>\n      <td>16204</td>\n      <td>-13.18700</td>\n      <td>-60.8168</td>\n    </tr>\n  </tbody>\n</table>\n</div>"
     },
     "metadata": {},
     "execution_count": 104
    }
   ],
   "source": [
    "municipios.head()"
   ]
  },
  {
   "cell_type": "code",
   "execution_count": 105,
   "metadata": {},
   "outputs": [
    {
     "output_type": "execute_result",
     "data": {
      "text/plain": [
       "(5570, 5)"
      ]
     },
     "metadata": {},
     "execution_count": 105
    }
   ],
   "source": [
    "municipios.shape"
   ]
  },
  {
   "cell_type": "code",
   "execution_count": 107,
   "metadata": {},
   "outputs": [
    {
     "output_type": "execute_result",
     "data": {
      "text/plain": [
       "Codigo       0\n",
       "Municipio    0\n",
       "Populacao    0\n",
       "latitude     0\n",
       "longitude    0\n",
       "dtype: int64"
      ]
     },
     "metadata": {},
     "execution_count": 107
    }
   ],
   "source": [
    "municipios.isnull().sum()"
   ]
  },
  {
   "cell_type": "code",
   "execution_count": null,
   "metadata": {},
   "outputs": [],
   "source": []
  }
 ],
 "metadata": {
  "kernelspec": {
   "display_name": "Python 3",
   "language": "python",
   "name": "python3"
  },
  "language_info": {
   "codemirror_mode": {
    "name": "ipython",
    "version": 3
   },
   "file_extension": ".py",
   "mimetype": "text/x-python",
   "name": "python",
   "nbconvert_exporter": "python",
   "pygments_lexer": "ipython3",
   "version": "3.8.3-final"
  }
 },
 "nbformat": 4,
 "nbformat_minor": 5
}